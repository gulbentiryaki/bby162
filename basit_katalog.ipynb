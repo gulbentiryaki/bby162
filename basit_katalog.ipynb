{
  "nbformat": 4,
  "nbformat_minor": 0,
  "metadata": {
    "colab": {
      "name": "basit_katalog.ipynb",
      "provenance": [],
      "authorship_tag": "ABX9TyPM9Pma5aT8IrCJ1rHmxfSP",
      "include_colab_link": true
    },
    "kernelspec": {
      "name": "python3",
      "display_name": "Python 3"
    }
  },
  "cells": [
    {
      "cell_type": "markdown",
      "metadata": {
        "id": "view-in-github",
        "colab_type": "text"
      },
      "source": [
        "<a href=\"https://colab.research.google.com/github/gulbentiryaki/bby162/blob/master/basit_katalog.ipynb\" target=\"_parent\"><img src=\"https://colab.research.google.com/assets/colab-badge.svg\" alt=\"Open In Colab\"/></a>"
      ]
    },
    {
      "cell_type": "code",
      "metadata": {
        "id": "7ccpvMOwaqMJ",
        "colab_type": "code",
        "outputId": "431e849b-1de7-4da3-a0cf-741db07837fa",
        "colab": {
          "base_uri": "https://localhost:8080/",
          "height": 328
        }
      },
      "source": [
        "from google.colab import drive\n",
        "drive.mount('/gdrive')\n",
        "dosya = \"/gdrive/My Drive/Colab Notebooks/kütüphane/kitap_listesi.txt\"\n",
        "def eser_ekle():\n",
        "  dosya1 = open(dosya, \"a\",encoding=\"utf-8\")\n",
        "  kitap_adi = input(\"Kitap Adı: \")\n",
        "  yazar_adi = input(\"Yazar Adı: \")\n",
        "  basim_yili = input(\"Basım Yılı: \")\n",
        "  isbn = input(\"isbn : \")\n",
        "  yayin_evi = input(\"Yayın Evi: \")\n",
        "  dosya1.write(kitap_adi+\"|\" + yazar_adi + \"|\" + basim_yili + \"|\" + isbn + \"|\" + yayin_evi+\"\\n\")\n",
        "  print(\"Eser Kayıt edildi.\")\n",
        "  dosya1.close()\n",
        "\n",
        "def eser_listele():\n",
        "  dosya2 = open(dosya, \"r\", encoding='utf-8')\n",
        "  print(dosya2.read())\n",
        "  dosya2.close()\n",
        "\n",
        "\n",
        "islem = 0\n",
        "while  islem != 3 :\n",
        "  print(\"Yapılacak işlemi Seçiniz\")\n",
        "  print(\"1-Eser ekle\")\n",
        "  print(\"2-Eserleri Listele\")\n",
        "  print(\"3-Çıkış\")\n",
        "  \n",
        "  islem = int (input(\"Seçilen İşlem Tipi:\"))\n",
        "  if islem == 1:\n",
        "    eser_ekle()\n",
        "  elif islem == 2:\n",
        "    eser_listele()\n",
        "  elif islem == 3:\n",
        "    break\n",
        "  else:\n",
        "    print(\"Tekrar Seçiniz.\")\n",
        "    continue\n",
        "    "
      ],
      "execution_count": 0,
      "outputs": [
        {
          "output_type": "stream",
          "text": [
            "Drive already mounted at /gdrive; to attempt to forcibly remount, call drive.mount(\"/gdrive\", force_remount=True).\n",
            "Yapılacak işlemi Seçiniz\n",
            "1-Eser ekle\n",
            "2-Eserleri Listele\n",
            "3-Çıkış\n",
            "Seçilen İşlem Tipi:2\n",
            "LİVANELİ|SERENAD|2016|DOGAN\n",
            "BALZAC|VADİDEKİ ZAMBAK|2018|CAN\n",
            "ORWELL|HAYVAN ÇİFTLİĞİ|2016|CAN\n",
            "LİVANELİ|HUZURSUZLUK|2017|DOGAN\n",
            "\n",
            "\n",
            "Yapılacak işlemi Seçiniz\n",
            "1-Eser ekle\n",
            "2-Eserleri Listele\n",
            "3-Çıkış\n"
          ],
          "name": "stdout"
        }
      ]
    }
  ]
}