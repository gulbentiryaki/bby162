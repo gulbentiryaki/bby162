{
  "nbformat": 4,
  "nbformat_minor": 0,
  "metadata": {
    "colab": {
      "name": "proje04.ipynb",
      "provenance": [],
      "mount_file_id": "1Cc8PGXHxT5T-Httjc9_libVdMQAEpaSd",
      "authorship_tag": "ABX9TyOkhEdk0WO4euQJHsjF2ifU",
      "include_colab_link": true
    },
    "kernelspec": {
      "name": "python3",
      "display_name": "Python 3"
    }
  },
  "cells": [
    {
      "cell_type": "markdown",
      "metadata": {
        "id": "view-in-github",
        "colab_type": "text"
      },
      "source": [
        "<a href=\"https://colab.research.google.com/github/gulbentiryaki/bby162/blob/master/proje04.ipynb\" target=\"_parent\"><img src=\"https://colab.research.google.com/assets/colab-badge.svg\" alt=\"Open In Colab\"/></a>"
      ]
    },
    {
      "cell_type": "code",
      "metadata": {
        "id": "vRIxL6-tI5Cu",
        "colab": {
          "base_uri": "https://localhost:8080/"
        },
        "outputId": "b69cb157-ef96-4c3e-9a92-5aac8a5097ef"
      },
      "source": [
        "import string\n",
        "from google.colab import drive\n",
        "drive.mount('/gdrive')\n",
        "dosya = \"/gdrive/MyDrive/Colab Notebooks/HU-BBY261-2020/gulben.txt\"\n",
        "\n",
        "tumAlfabe = string.printable\n",
        "alfabe = [\"ç\", \"ğ\", \"ı\", \"ö\", \"ş\", \"ü\", \"Ç\", \"Ğ\", \"İ\", \"Ö\", \"Ş\", \"Ü\", \"-\", \"\\ufeff\"]\n",
        "\n",
        "print(\"Metin dosyasına yazdırmak için g yazınız.\")\n",
        "print(\"Metin dosyasındaki şifreli cümleyi çözmek için u yazınız.\")\n",
        "secim=input(\"Yapmak istediğiniz işlemi seçiniz:\")\n",
        "if secim == \"g\":\n",
        "  f = open(dosya, \"r\")\n",
        "  for line in f.readlines():\n",
        "    print(line)\n",
        "\n",
        "  for jk in tumAlfabe:\n",
        "    alfabe.append(jk)\n",
        "  cumleSifreli = \"\"\n",
        "  cumle = input(\"Şifrelenecek cümleyi giriniz: \")\n",
        "  anahtar = int(input(\"Şifreleme anahtarını giriniz: \"))\n",
        "  for i in cumle:  \n",
        "      cumleSifreli += alfabe[(alfabe.index(i)+anahtar) % len(alfabe)]\n",
        "  print(\"Şifrelenmiş cümle: \", cumleSifreli)\n",
        "  \n",
        "elif secim == \"u\":\n",
        "  f = open(cumleSifreli, 'w')\n",
        "  f.write(\"test\")\n",
        "\n",
        "  for jk in tumAlfabe:\n",
        "    alfabe.append(jk)\n",
        "  cumleSifresiz = \"\"\n",
        "  cumleSifreli = input(\"Şifrelenmiş cümleyi giriniz: \")\n",
        "  anahtar = int(input(\"Şifreleme anahtarını giriniz: \"))\n",
        "  for i in cumleSifreli:  \n",
        "      cumleSifresiz += alfabe[(alfabe.index(i)-anahtar) % len(alfabe)]\n",
        "  print(\"Şifresiz Cümle: \"+cumleSifresiz)\n",
        "           \n",
        "\n",
        "\n",
        " \n"
      ],
      "execution_count": null,
      "outputs": [
        {
          "output_type": "stream",
          "text": [
            "Drive already mounted at /gdrive; to attempt to forcibly remount, call drive.mount(\"/gdrive\", force_remount=True).\n",
            "Metin dosyasına yazdırmak için g yazınız.\n",
            "Metin dosyasındaki şifreli cümleyi çözmek için u yazınız.\n",
            "Yapmak istediğiniz işlemi seçiniz:g\n",
            "COVID-19, farklı kişileri farklı şekillerde etkilemektedir. Enfekte kişilerin çoğu, hafif ila orta düzeyde semptomlar geliştirmekte ve hastaneye kaldırılmadan iyileşmektedir.\n",
            "Şifrelenecek cümleyi giriniz: VID-19, farklı \n",
            "Şifreleme anahtarını giriniz: 2\n",
            "Şifrelenmiş cümle:  XKF03b.\n",
            "hctmnş\n",
            "\n"
          ],
          "name": "stdout"
        }
      ]
    }
  ]
}