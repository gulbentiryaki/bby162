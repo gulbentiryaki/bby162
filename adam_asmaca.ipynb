{
  "nbformat": 4,
  "nbformat_minor": 0,
  "metadata": {
    "colab": {
      "name": "adam_asmaca.ipynb",
      "provenance": [],
      "authorship_tag": "ABX9TyPpTomOL4phC5E4P1k/xTH8",
      "include_colab_link": true
    },
    "kernelspec": {
      "name": "python3",
      "display_name": "Python 3"
    }
  },
  "cells": [
    {
      "cell_type": "markdown",
      "metadata": {
        "id": "view-in-github",
        "colab_type": "text"
      },
      "source": [
        "<a href=\"https://colab.research.google.com/github/gulbentiryaki/bby162/blob/master/adam_asmaca.ipynb\" target=\"_parent\"><img src=\"https://colab.research.google.com/assets/colab-badge.svg\" alt=\"Open In Colab\"/></a>"
      ]
    },
    {
      "cell_type": "code",
      "metadata": {
        "id": "srlgt1dJT5sZ",
        "colab_type": "code",
        "colab": {
          "base_uri": "https://localhost:8080/",
          "height": 107
        },
        "outputId": "0260fc29-48ee-4c22-9629-24b4e313a233"
      },
      "source": [
        "from random import randint\n",
        "suRunGenler = [\"yılan\",\"kertenkele\",\"timsah\",\"kaplumbağa\"]\n",
        "sec = randint(0,3)\n",
        "\n",
        "print(\"3 yanlış tahmin hakkına sahipsiniz!\")\n",
        "print(\"Seçilen kelimenin harf sayısı: \",len(suRunGenler[sec]))\n",
        "szck= []\n",
        "for i in suRunGenler[sec]:\n",
        "  szck.append(\"_\")\n",
        "print(szck)\n",
        "\n",
        "sayac=0\n",
        "yanlis = 1\n",
        "while yanlis <=3:\n",
        " \n",
        "    liste=[]\n",
        "    for k in suRunGenler[sec]:\n",
        "        liste.append(k)\n",
        "    harf = input(\" Bir harf yazınız: \")\n",
        "\n",
        "    if harf in suRunGenler[sec]:\n",
        "        print(harf + \" doğru harf tahmini \")\n",
        "       \n",
        "        for j in range(0,len(liste)):\n",
        "            if harf==liste[j]:\n",
        "                szck[j]=harf\n",
        "                sayac=sayac+1\n",
        "        print(szck)\n",
        "        if sayac==len(liste):\n",
        "            print(\"Kazandınız\")\n",
        "            break\n",
        "                     \n",
        "    else:\n",
        "        print(harf + \" Yanlış harf tahmini \")\n",
        "        yanlis = yanlis+1\n",
        "        can=4-yanlis\n",
        "        if can>0:\n",
        "            print(can,\"canınız kaldı.\")\n",
        "\n",
        "if yanlis>3:\n",
        "    print(\"Kaybettin.Hata sınırı aşıldı.\")"
      ],
      "execution_count": 0,
      "outputs": [
        {
          "output_type": "stream",
          "text": [
            "3 yanlış tahmin hakkına sahipsiniz!\n",
            "Seçilen kelimenin harf sayısı:  10\n",
            "['_', '_', '_', '_', '_', '_', '_', '_', '_', '_']\n"
          ],
          "name": "stdout"
        }
      ]
    }
  ]
}