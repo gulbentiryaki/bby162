{
  "nbformat": 4,
  "nbformat_minor": 0,
  "metadata": {
    "colab": {
      "name": "adam_asmaca.ipynb",
      "provenance": [],
      "authorship_tag": "ABX9TyPode/xmU1ACseezlbilos1",
      "include_colab_link": true
    },
    "kernelspec": {
      "name": "python3",
      "display_name": "Python 3"
    }
  },
  "cells": [
    {
      "cell_type": "markdown",
      "metadata": {
        "id": "view-in-github",
        "colab_type": "text"
      },
      "source": [
        "<a href=\"https://colab.research.google.com/github/gulbentiryaki/bby162/blob/master/adam_asmaca.ipynb\" target=\"_parent\"><img src=\"https://colab.research.google.com/assets/colab-badge.svg\" alt=\"Open In Colab\"/></a>"
      ]
    },
    {
      "cell_type": "code",
      "metadata": {
        "id": "6icRRXhbxjee",
        "colab_type": "code",
        "outputId": "5397030f-b092-4ae0-de83-bc06bba17d1f",
        "colab": {
          "base_uri": "https://localhost:8080/",
          "height": 90
        }
      },
      "source": [
        "from random import randint\n",
        "suRunGenler = [\"yılan\",\"kertenkele\",\"timsah\",\"kaplumbağa\"]\n",
        "sec = randint(0,3)\n",
        "\n",
        "print(\"Sadece 3 yanlış tahmin hakkına sahipsiniz! Başarılar...\")\n",
        "print(\"Seçilen kelimenin harf sayısı: \",len(suRunGenler[sec]))\n",
        "\n",
        "\n",
        "dogruTahmin=0\n",
        "yanlis = 0\n",
        "while yanlis < 3:\n",
        "    harf = input(\" Bir harf yazınız: \")\n",
        "\n",
        "    if harf in suRunGenler[sec]:\n",
        "        \n",
        "        print(harf + \" doğru harf tahmini \")\n",
        "        dogruTahmin=dogruTahmin+1\n",
        "            \n",
        "    else:\n",
        "        \n",
        "        print(harf + \" Yanlış harf tahmini \")\n",
        "        yanlis = yanlis+1\n",
        "        \n",
        "           \n",
        "    \n",
        "    if dogruTahmin == len(suRunGenler[sec]):\n",
        "        print(\"Kazandınız! Bildiğiniz kelime: \", suRunGenler[sec] )\n",
        "        break\n",
        "\n",
        "if yanlis>0:\n",
        "    print(\"Kaybettin.Hata sınırı aşıldı.\")"
      ],
      "execution_count": 0,
      "outputs": [
        {
          "output_type": "stream",
          "text": [
            "Sadece 3 yanlış tahmin hakkına sahipsiniz! Başarılar...\n",
            "Seçilen kelimenin harf sayısı:  10\n"
          ],
          "name": "stdout"
        }
      ]
    }
  ]
}