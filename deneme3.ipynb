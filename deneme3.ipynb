{
  "nbformat": 4,
  "nbformat_minor": 0,
  "metadata": {
    "colab": {
      "name": "deneme3.ipynb",
      "provenance": [],
      "authorship_tag": "ABX9TyPVwQeD09adHZxv19k+f3xJ",
      "include_colab_link": true
    },
    "kernelspec": {
      "name": "python3",
      "display_name": "Python 3"
    }
  },
  "cells": [
    {
      "cell_type": "markdown",
      "metadata": {
        "id": "view-in-github",
        "colab_type": "text"
      },
      "source": [
        "<a href=\"https://colab.research.google.com/github/gulbentiryaki/bby162/blob/master/deneme3.ipynb\" target=\"_parent\"><img src=\"https://colab.research.google.com/assets/colab-badge.svg\" alt=\"Open In Colab\"/></a>"
      ]
    },
    {
      "cell_type": "code",
      "metadata": {
        "id": "yTjxaMgumSUm",
        "colab_type": "code",
        "colab": {
          "base_uri": "https://localhost:8080/",
          "height": 34
        },
        "outputId": "d41b8b67-ea2e-468a-f9dd-8cda2283b012"
      },
      "source": [
        "aDSoyad = \"gülben tiryaki\"\n",
        "print(\"adı soyadı: \" + aDSoyad)"
      ],
      "execution_count": 8,
      "outputs": [
        {
          "output_type": "stream",
          "text": [
            "adı soyadı: gülben tiryaki\n"
          ],
          "name": "stdout"
        }
      ]
    },
    {
      "cell_type": "code",
      "metadata": {
        "id": "mm4pKmigqP6L",
        "colab_type": "code",
        "colab": {
          "base_uri": "https://localhost:8080/",
          "height": 34
        },
        "outputId": "6c0223a3-89bf-431b-eeaf-f146f46b1a06"
      },
      "source": [
        "ePosta = \"gulben6568@gmail.com\"\n",
        "print(\"epostası: \" + ePosta)"
      ],
      "execution_count": 12,
      "outputs": [
        {
          "output_type": "stream",
          "text": [
            "epostası: gulben6568@gmail.com\n"
          ],
          "name": "stdout"
        }
      ]
    },
    {
      "cell_type": "code",
      "metadata": {
        "id": "KtYkc4BBr7xO",
        "colab_type": "code",
        "colab": {
          "base_uri": "https://localhost:8080/",
          "height": 34
        },
        "outputId": "86febb19-6a65-4d32-bd70-fdf9eecd6490"
      },
      "source": [
        "okulNO = \"21865969\"\n",
        "print(\"okul numarası :\" + okulNO )"
      ],
      "execution_count": 13,
      "outputs": [
        {
          "output_type": "stream",
          "text": [
            "okul numarası :21865969\n"
          ],
          "name": "stdout"
        }
      ]
    },
    {
      "cell_type": "code",
      "metadata": {
        "id": "8j07YLVO0UqL",
        "colab_type": "code",
        "colab": {
          "base_uri": "https://localhost:8080/",
          "height": 34
        },
        "outputId": "a20c1860-c35e-483c-e405-3524cae93e47"
      },
      "source": [
        "tamSAYi = 2\n",
        "print(type(tamSAYi)) "
      ],
      "execution_count": 17,
      "outputs": [
        {
          "output_type": "stream",
          "text": [
            "<class 'int'>\n"
          ],
          "name": "stdout"
        }
      ]
    },
    {
      "cell_type": "code",
      "metadata": {
        "id": "YIjtt6Vv1NRE",
        "colab_type": "code",
        "colab": {
          "base_uri": "https://localhost:8080/",
          "height": 34
        },
        "outputId": "4f20596c-8ed3-48b5-e332-7bcc9afd51f8"
      },
      "source": [
        "ondalikSayi = 7.4\n",
        "print(type(ondalikSayi))"
      ],
      "execution_count": 19,
      "outputs": [
        {
          "output_type": "stream",
          "text": [
            "<class 'float'>\n"
          ],
          "name": "stdout"
        }
      ]
    },
    {
      "cell_type": "code",
      "metadata": {
        "id": "GTXGPIgb2b0Z",
        "colab_type": "code",
        "colab": {
          "base_uri": "https://localhost:8080/",
          "height": 34
        },
        "outputId": "7f288b99-9845-40a6-f4b1-799c959379dc"
      },
      "source": [
        "sayi = 9.0\n",
        "print(type(sayi))"
      ],
      "execution_count": 20,
      "outputs": [
        {
          "output_type": "stream",
          "text": [
            "<class 'float'>\n"
          ],
          "name": "stdout"
        }
      ]
    },
    {
      "cell_type": "code",
      "metadata": {
        "id": "w_9nTWvp5n5-",
        "colab_type": "code",
        "colab": {
          "base_uri": "https://localhost:8080/",
          "height": 51
        },
        "outputId": "e9f10934-849b-4163-9264-fb56a6cbd4f7"
      },
      "source": [
        "sayi = 6.5\n",
        "print(type(sayi))\n",
        "print(sayi)"
      ],
      "execution_count": 22,
      "outputs": [
        {
          "output_type": "stream",
          "text": [
            "<class 'float'>\n",
            "6.5\n"
          ],
          "name": "stdout"
        }
      ]
    },
    {
      "cell_type": "code",
      "metadata": {
        "id": "GEJ0b02A6OYM",
        "colab_type": "code",
        "colab": {
          "base_uri": "https://localhost:8080/",
          "height": 51
        },
        "outputId": "e1dd9260-bf1b-42f6-981e-91e2ccd65899"
      },
      "source": [
        "sayi = int(sayi)  \n",
        "print(type(sayi))\n",
        "print(sayi)"
      ],
      "execution_count": 23,
      "outputs": [
        {
          "output_type": "stream",
          "text": [
            "<class 'int'>\n",
            "6\n"
          ],
          "name": "stdout"
        }
      ]
    },
    {
      "cell_type": "code",
      "metadata": {
        "id": "sFen_JHg7naq",
        "colab_type": "code",
        "colab": {
          "base_uri": "https://localhost:8080/",
          "height": 51
        },
        "outputId": "8833b1c9-84da-47f1-c811-a85ac1cc639c"
      },
      "source": [
        "sayi = 4.14\n",
        "sayi = str(sayi)\n",
        "print(type(sayi))\n",
        "print(sayi)"
      ],
      "execution_count": 28,
      "outputs": [
        {
          "output_type": "stream",
          "text": [
            "<class 'str'>\n",
            "4.14\n"
          ],
          "name": "stdout"
        }
      ]
    },
    {
      "cell_type": "code",
      "metadata": {
        "id": "_68ljWl4COUn",
        "colab_type": "code",
        "colab": {
          "base_uri": "https://localhost:8080/",
          "height": 34
        },
        "outputId": "b6a2bccb-5907-4d0e-a876-595478295019"
      },
      "source": [
        "sayi = 30\n",
        "sonuc = sayi ** 3\n",
        "print(sonuc)"
      ],
      "execution_count": 35,
      "outputs": [
        {
          "output_type": "stream",
          "text": [
            "27000\n"
          ],
          "name": "stdout"
        }
      ]
    },
    {
      "cell_type": "code",
      "metadata": {
        "id": "LM2hzKUnC4oY",
        "colab_type": "code",
        "colab": {
          "base_uri": "https://localhost:8080/",
          "height": 34
        },
        "outputId": "eb2473e9-180a-4cb4-a0a0-98b84dbb1af3"
      },
      "source": [
        "sayi = 35\n",
        "sonuc = sayi % 4\n",
        "print(sonuc)"
      ],
      "execution_count": 36,
      "outputs": [
        {
          "output_type": "stream",
          "text": [
            "3\n"
          ],
          "name": "stdout"
        }
      ]
    },
    {
      "cell_type": "code",
      "metadata": {
        "id": "Q0x5ozzVDgqm",
        "colab_type": "code",
        "colab": {
          "base_uri": "https://localhost:8080/",
          "height": 51
        },
        "outputId": "95c64839-9627-4f0c-8495-77663a00beff"
      },
      "source": [
        "urunAdi = \"Elma\"\n",
        "kgFiyatı = 3.99\n",
        "kacKg = 2\n",
        "odeme = kgFiyatı * kacKg\n",
        "print(urunAdi)\n",
        "print(odeme)"
      ],
      "execution_count": 49,
      "outputs": [
        {
          "output_type": "stream",
          "text": [
            "Elma\n",
            "7.98\n"
          ],
          "name": "stdout"
        }
      ]
    },
    {
      "cell_type": "code",
      "metadata": {
        "id": "wdng8vjAMGhZ",
        "colab_type": "code",
        "colab": {
          "base_uri": "https://localhost:8080/",
          "height": 34
        },
        "outputId": "9902f1d3-5a43-4a77-99d6-bf9992b24d29"
      },
      "source": [
        "urunAdi = \"Elma\"\n",
        "kgFiyatı = 3.99\n",
        "kacKg = 2\n",
        "print(urunAdi + \"'nın kilosu\" + str(kgFiyatı))"
      ],
      "execution_count": 53,
      "outputs": [
        {
          "output_type": "stream",
          "text": [
            "Elma'nın kilosu3.99\n"
          ],
          "name": "stdout"
        }
      ]
    },
    {
      "cell_type": "code",
      "metadata": {
        "id": "KUcPbtQ9NPfz",
        "colab_type": "code",
        "colab": {
          "base_uri": "https://localhost:8080/",
          "height": 34
        },
        "outputId": "b0f40f18-e70e-48d2-d0d6-7c41f919e6a0"
      },
      "source": [
        "sayi = 8\n",
        "sayi += 4\n",
        "print(\"sayi = \" + str(sayi))\n",
        "\n"
      ],
      "execution_count": 58,
      "outputs": [
        {
          "output_type": "stream",
          "text": [
            "sayi = 12\n"
          ],
          "name": "stdout"
        }
      ]
    },
    {
      "cell_type": "code",
      "metadata": {
        "id": "FCvbiyByQedN",
        "colab_type": "code",
        "colab": {
          "base_uri": "https://localhost:8080/",
          "height": 51
        },
        "outputId": "a8dfe46c-e624-4690-d225-78493773e51b"
      },
      "source": [
        "sayi = 55\n",
        "sayi += 20\n",
        "print(sayi)\n",
        "sayi -= 10\n",
        "print(\"sayi = \" + str(sayi))"
      ],
      "execution_count": 65,
      "outputs": [
        {
          "output_type": "stream",
          "text": [
            "75\n",
            "sayi = 65\n"
          ],
          "name": "stdout"
        }
      ]
    },
    {
      "cell_type": "code",
      "metadata": {
        "id": "ykNQp8Q4R94G",
        "colab_type": "code",
        "colab": {
          "base_uri": "https://localhost:8080/",
          "height": 34
        },
        "outputId": "c9ec4123-c353-4434-8251-168970d3fdf7"
      },
      "source": [
        "sayi = 8\n",
        "sayi += 4\n",
        "print(\"sayi=\" + str(sayi)) "
      ],
      "execution_count": 68,
      "outputs": [
        {
          "output_type": "stream",
          "text": [
            "sayi=12\n"
          ],
          "name": "stdout"
        }
      ]
    },
    {
      "cell_type": "code",
      "metadata": {
        "id": "CSMmViXxS3Oa",
        "colab_type": "code",
        "colab": {
          "base_uri": "https://localhost:8080/",
          "height": 51
        },
        "outputId": "3e33c2fc-ed1f-41cf-f723-fe7b806d8adf"
      },
      "source": [
        "sayi = 8\n",
        "sayi += 4  # Mevcut değer olan 8'e 4 daha ekler.\n",
        "print(sayi) \n",
        "\n",
        "sayi -= 6 # Mevcut değer olan 12'den 6 eksiltir.\n",
        "print(\"sayi = \" + str(sayi))"
      ],
      "execution_count": 70,
      "outputs": [
        {
          "output_type": "stream",
          "text": [
            "12\n",
            "sayi = 6\n"
          ],
          "name": "stdout"
        }
      ]
    },
    {
      "cell_type": "code",
      "metadata": {
        "id": "BK7tm-nvUWeu",
        "colab_type": "code",
        "colab": {
          "base_uri": "https://localhost:8080/",
          "height": 34
        },
        "outputId": "cbe6a675-1601-4d5b-97d3-f2bf3f6bac10"
      },
      "source": [
        "deger1 = 10\n",
        "deger2 = 10\n",
        "esitMi = (deger1 == deger2)\n",
        "print(esitMi) "
      ],
      "execution_count": 75,
      "outputs": [
        {
          "output_type": "stream",
          "text": [
            "True\n"
          ],
          "name": "stdout"
        }
      ]
    },
    {
      "cell_type": "code",
      "metadata": {
        "id": "eO2PGvhuU6Tz",
        "colab_type": "code",
        "colab": {
          "base_uri": "https://localhost:8080/",
          "height": 34
        },
        "outputId": "f516430c-ce13-4ab0-8a0c-418e857456ca"
      },
      "source": [
        "deger1 = \"Python\"\n",
        "deger2 = \"Piton\"\n",
        "esitMi = (deger1 == deger2) # Eşit olup olmadıkları kontrol ediliyor\n",
        "print(esitMi)"
      ],
      "execution_count": 76,
      "outputs": [
        {
          "output_type": "stream",
          "text": [
            "False\n"
          ],
          "name": "stdout"
        }
      ]
    },
    {
      "cell_type": "code",
      "metadata": {
        "id": "4-O1J4QjU_ZS",
        "colab_type": "code",
        "colab": {
          "base_uri": "https://localhost:8080/",
          "height": 34
        },
        "outputId": "e6316d40-1a0b-4da0-ee33-921f39f5e535"
      },
      "source": [
        "sifre = \"Python2020\"\n",
        "sifreTekrar = \"Piton2020\"\n",
        "esiTmi= (sifre == sifreTekrar)\n",
        "print(esiTmi)"
      ],
      "execution_count": 77,
      "outputs": [
        {
          "output_type": "stream",
          "text": [
            "False\n"
          ],
          "name": "stdout"
        }
      ]
    },
    {
      "cell_type": "code",
      "metadata": {
        "id": "QXXa7iTeWUN-",
        "colab_type": "code",
        "colab": {
          "base_uri": "https://localhost:8080/",
          "height": 34
        },
        "outputId": "1d9c6145-b772-4681-e61f-e49b4073a196"
      },
      "source": [
        "deger1 = 5\n",
        "deger2 = 7\n",
        "deger3 = 9\n",
        "print(deger1 < deger2 < deger3) "
      ],
      "execution_count": 79,
      "outputs": [
        {
          "output_type": "stream",
          "text": [
            "True\n"
          ],
          "name": "stdout"
        }
      ]
    },
    {
      "cell_type": "code",
      "metadata": {
        "id": "BCwGYh4IW1Sl",
        "colab_type": "code",
        "colab": {
          "base_uri": "https://localhost:8080/",
          "height": 102
        },
        "outputId": "ad08d9fe-ea44-4622-ec62-2fdd6891ca1a"
      },
      "source": [
        "urunAdi = \"Bisiklet\"\n",
        "butce = 3000\n",
        "urunFiyati = 1000\n",
        "urunAdet = 5\n",
        "urunOdeme = urunFiyati * urunAdet\n",
        "print( \"Bütceniz:\" + str(butce))\n",
        "print( \"Toplam Fiyat:\" +str(urunOdeme))\n",
        "sonuc = butce > urunOdeme\n",
        "print(sonuc)\n",
        "print( \"Almak istediğiniz \" +str(urunAdet)+ \" \" + urunAdi + \" \" +str(urunOdeme)+ \"TL'dir.\")\n",
        "print(\"Alabilir misin? \" +str(sonuc))"
      ],
      "execution_count": 93,
      "outputs": [
        {
          "output_type": "stream",
          "text": [
            "Bütceniz:3000\n",
            "Toplam Fiyat:5000\n",
            "False\n",
            "Almak istediğiniz 5 Bisiklet 5000TL'dir.\n",
            "Alabilir misin? False\n"
          ],
          "name": "stdout"
        }
      ]
    },
    {
      "cell_type": "code",
      "metadata": {
        "id": "JtdTd1-zDgvC",
        "colab_type": "code",
        "colab": {}
      },
      "source": [
        ""
      ],
      "execution_count": 0,
      "outputs": []
    }
  ]
}